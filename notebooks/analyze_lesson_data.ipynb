{
 "cells": [
  {
   "cell_type": "code",
   "execution_count": 3,
   "id": "850a1cc8",
   "metadata": {},
   "outputs": [],
   "source": [
    "import pandas as pd\n",
    "#mport matplotlib.pyplot as plt"
   ]
  },
  {
   "cell_type": "code",
   "execution_count": 4,
   "id": "978f7812",
   "metadata": {},
   "outputs": [],
   "source": [
    "lesson_number = '3'"
   ]
  },
  {
   "cell_type": "code",
   "execution_count": 7,
   "id": "bf937ad8",
   "metadata": {},
   "outputs": [],
   "source": [
    "from os.path import expanduser\n",
    "path_to_lesson_file = expanduser('~') + '/decode/decode-2021-analytics/fake_data/'\n",
    "\n",
    "file_name = f'lesson {lesson_number} scores.csv'"
   ]
  },
  {
   "cell_type": "code",
   "execution_count": 11,
   "id": "b401ad71",
   "metadata": {},
   "outputs": [],
   "source": [
    "df = pd.read_csv(path_to_lesson_file + file_name, index_col=0)"
   ]
  },
  {
   "cell_type": "markdown",
   "id": "98635ba9",
   "metadata": {},
   "source": [
    "-- sentiment analysis"
   ]
  },
  {
   "cell_type": "code",
   "execution_count": 19,
   "id": "fb98febd",
   "metadata": {},
   "outputs": [
    {
     "data": {
      "text/plain": [
       "Index(['n_content', 'n_happy', 'n_tired', 'n_sad', 'n_nervous', 'n_anxious',\n",
       "       'n_frustrated'],\n",
       "      dtype='object')"
      ]
     },
     "execution_count": 19,
     "metadata": {},
     "output_type": "execute_result"
    }
   ],
   "source": [
    "has_sentiment = df.columns.str.startswith('n_')\n",
    "cols = df.columns[has_sentiment]\n",
    "cols"
   ]
  },
  {
   "cell_type": "code",
   "execution_count": 31,
   "id": "568f3151",
   "metadata": {},
   "outputs": [],
   "source": [
    "sentiment_values = df[cols].sum()"
   ]
  },
  {
   "cell_type": "code",
   "execution_count": 32,
   "id": "bdc9ba79",
   "metadata": {},
   "outputs": [],
   "source": [
    "sentiment_values.name = 'number of responses'"
   ]
  },
  {
   "cell_type": "code",
   "execution_count": 34,
   "id": "47a3817d",
   "metadata": {},
   "outputs": [],
   "source": [
    "sentiment_values = sentiment_values.to_frame()"
   ]
  },
  {
   "cell_type": "code",
   "execution_count": 35,
   "id": "149adf9d",
   "metadata": {},
   "outputs": [],
   "source": [
    "sentiment_values['avg per student'] = sentiment_values/df.shape[0]"
   ]
  },
  {
   "cell_type": "code",
   "execution_count": 36,
   "id": "31e59664",
   "metadata": {},
   "outputs": [
    {
     "data": {
      "text/html": [
       "<div>\n",
       "<style scoped>\n",
       "    .dataframe tbody tr th:only-of-type {\n",
       "        vertical-align: middle;\n",
       "    }\n",
       "\n",
       "    .dataframe tbody tr th {\n",
       "        vertical-align: top;\n",
       "    }\n",
       "\n",
       "    .dataframe thead th {\n",
       "        text-align: right;\n",
       "    }\n",
       "</style>\n",
       "<table border=\"1\" class=\"dataframe\">\n",
       "  <thead>\n",
       "    <tr style=\"text-align: right;\">\n",
       "      <th></th>\n",
       "      <th>number of responses</th>\n",
       "      <th>avg per student</th>\n",
       "    </tr>\n",
       "  </thead>\n",
       "  <tbody>\n",
       "    <tr>\n",
       "      <th>n_content</th>\n",
       "      <td>86</td>\n",
       "      <td>1.72</td>\n",
       "    </tr>\n",
       "    <tr>\n",
       "      <th>n_happy</th>\n",
       "      <td>75</td>\n",
       "      <td>1.50</td>\n",
       "    </tr>\n",
       "    <tr>\n",
       "      <th>n_tired</th>\n",
       "      <td>66</td>\n",
       "      <td>1.32</td>\n",
       "    </tr>\n",
       "    <tr>\n",
       "      <th>n_sad</th>\n",
       "      <td>79</td>\n",
       "      <td>1.58</td>\n",
       "    </tr>\n",
       "    <tr>\n",
       "      <th>n_nervous</th>\n",
       "      <td>70</td>\n",
       "      <td>1.40</td>\n",
       "    </tr>\n",
       "    <tr>\n",
       "      <th>n_anxious</th>\n",
       "      <td>82</td>\n",
       "      <td>1.64</td>\n",
       "    </tr>\n",
       "    <tr>\n",
       "      <th>n_frustrated</th>\n",
       "      <td>89</td>\n",
       "      <td>1.78</td>\n",
       "    </tr>\n",
       "  </tbody>\n",
       "</table>\n",
       "</div>"
      ],
      "text/plain": [
       "              number of responses  avg per student\n",
       "n_content                      86             1.72\n",
       "n_happy                        75             1.50\n",
       "n_tired                        66             1.32\n",
       "n_sad                          79             1.58\n",
       "n_nervous                      70             1.40\n",
       "n_anxious                      82             1.64\n",
       "n_frustrated                   89             1.78"
      ]
     },
     "execution_count": 36,
     "metadata": {},
     "output_type": "execute_result"
    }
   ],
   "source": [
    "sentiment_values"
   ]
  },
  {
   "cell_type": "markdown",
   "id": "52ad1ba9",
   "metadata": {},
   "source": [
    "-- exam score"
   ]
  },
  {
   "cell_type": "code",
   "execution_count": 38,
   "id": "e1047800",
   "metadata": {},
   "outputs": [
    {
     "data": {
      "text/plain": [
       "Index(['name', 'gender', 'ethnicity', 'native language', 'learning needs',\n",
       "       'attendance', 'n_content', 'n_happy', 'n_tired', 'n_sad', 'n_nervous',\n",
       "       'n_anxious', 'n_frustrated', 'exam', 'quiz_1', 'quiz_2', 'quiz_3',\n",
       "       'quiz_4', 'quiz_5'],\n",
       "      dtype='object')"
      ]
     },
     "execution_count": 38,
     "metadata": {},
     "output_type": "execute_result"
    }
   ],
   "source": [
    "df.columns"
   ]
  },
  {
   "cell_type": "code",
   "execution_count": 39,
   "id": "84a87633",
   "metadata": {},
   "outputs": [
    {
     "data": {
      "text/plain": [
       "72.60198628831753"
      ]
     },
     "execution_count": 39,
     "metadata": {},
     "output_type": "execute_result"
    }
   ],
   "source": [
    "df['exam'].mean()"
   ]
  },
  {
   "cell_type": "code",
   "execution_count": null,
   "id": "8f95ec49",
   "metadata": {},
   "outputs": [],
   "source": []
  }
 ],
 "metadata": {
  "kernelspec": {
   "display_name": "Python 3 (ipykernel)",
   "language": "python",
   "name": "python3"
  },
  "language_info": {
   "codemirror_mode": {
    "name": "ipython",
    "version": 3
   },
   "file_extension": ".py",
   "mimetype": "text/x-python",
   "name": "python",
   "nbconvert_exporter": "python",
   "pygments_lexer": "ipython3",
   "version": "3.9.7"
  }
 },
 "nbformat": 4,
 "nbformat_minor": 5
}
