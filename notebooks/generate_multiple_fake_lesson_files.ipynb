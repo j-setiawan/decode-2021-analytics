{
 "cells": [
  {
   "cell_type": "code",
   "execution_count": null,
   "id": "d0b7c31a",
   "metadata": {},
   "outputs": [],
   "source": [
    "import pandas as pd\n",
    "import numpy as np\n",
    "import matplotlib.pyplot as plt"
   ]
  },
  {
   "cell_type": "code",
   "execution_count": null,
   "id": "04d33a89",
   "metadata": {},
   "outputs": [],
   "source": [
    "from os.path import expanduser\n",
    "path_to_fake_csv = expanduser('~') + '/decode/decode-2021-analytics/fake_data/'"
   ]
  },
  {
   "cell_type": "code",
   "execution_count": null,
   "id": "656aab6d",
   "metadata": {},
   "outputs": [],
   "source": [
    "for lesson in range(1,10):\n",
    "    \n",
    "    # read the static student info\n",
    "    df = pd.read_csv(path_to_fake_csv + 'fake_student_data.csv', index_col=0)\n",
    "    \n",
    "    # fake attendance \n",
    "    attendance = np.random.randint(0, 2, size=(df.shape[0],1))\n",
    "    df['attendance'] = attendance\n",
    "    \n",
    "    # frequency of emotional responses\n",
    "    n_emotions = 7\n",
    "    emotion_freq = np.random.randint(0, 4, size=(df.shape[0],n_emotions))\n",
    "    emotion_df = pd.DataFrame(emotion_freq, index=np.arange(1,51))\n",
    "    emotion_df.rename(columns={0:\"n_content\", 1:\"n_happy\", 2:\"n_tired\", 3:\"n_sad\", 4:\"n_nervous\", 5:\"n_anxious\", 6:\"n_frustrated\"}, inplace=True )\n",
    "    df = df.merge(emotion_df, left_index=True, right_index=True)\n",
    "        \n",
    "    # exam score \n",
    "    exam_scores = np.random.normal(70, 10, size=(df.shape[0],1))\n",
    "    df['exam'] = exam_scores\n",
    "    \n",
    "    # quiz scores\n",
    "    n_quizzes = 5\n",
    "    quiz_scores = np.random.randint(0, 2, size=(df.shape[0],n_quizzes))\n",
    "    quiz_df = pd.DataFrame(quiz_scores, index=np.arange(1,51))\n",
    "    column_names = ['quiz_'+str(k) for k in range(1,6)]\n",
    "    mpr = dict(zip(quiz_df.columns, column_names))\n",
    "    quiz_df.rename(columns=mpr, inplace=True)\n",
    "    df = df.merge(quiz_df, left_index=True, right_index=True)\n",
    "    \n",
    "    file_name = f'lesson {lesson} scores.csv' # loop over lesson number \n",
    "    df.to_csv('/Users/Mark/decode/decode-2021-analytics/fake_data/'+file_name, index_label='Student_ID')"
   ]
  }
 ],
 "metadata": {
  "kernelspec": {
   "display_name": "Python 3 (ipykernel)",
   "language": "python",
   "name": "python3"
  },
  "language_info": {
   "codemirror_mode": {
    "name": "ipython",
    "version": 3
   },
   "file_extension": ".py",
   "mimetype": "text/x-python",
   "name": "python",
   "nbconvert_exporter": "python",
   "pygments_lexer": "ipython3",
   "version": "3.9.7"
  }
 },
 "nbformat": 4,
 "nbformat_minor": 5
}
