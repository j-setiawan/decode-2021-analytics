{
 "cells": [
  {
   "cell_type": "code",
   "execution_count": null,
   "id": "440f0ed5",
   "metadata": {},
   "outputs": [],
   "source": [
    "import pandas as pd\n",
    "import names\n",
    "import numpy as np\n",
    "from numpy.random import randint"
   ]
  },
  {
   "cell_type": "code",
   "execution_count": null,
   "id": "3087a792",
   "metadata": {},
   "outputs": [],
   "source": [
    "num_students = 50\n",
    "name = [names.get_full_name() for i in range(num_students)]\n",
    "name = np.array(name)"
   ]
  },
  {
   "cell_type": "code",
   "execution_count": null,
   "id": "5af952ff",
   "metadata": {},
   "outputs": [],
   "source": [
    "# https://www12.statcan.gc.ca/census-recensement/2016/dp-pd/dt-td/Rp-eng.cfm?TABID=2&Lang=E&APATH=3&DETAIL=0&DIM=0&FL=A&FREE=0&GC=0&GID=1341679&GK=0&GRP=1&PID=110528&PRID=10&PTYPE=109445&S=0&SHOWALL=0&SUB=0&Temporal=2017&THEME=120&VID=0&VNAMEE=&VNAMEF=&D1=0&D2=0&D3=0&D4=0&D5=0&D6=0\n",
    "ethnicity = ['North American Aboriginal', 'European', 'Caribbean', 'Latin, Central and South American', \n",
    "             'African', 'Asian']"
   ]
  },
  {
   "cell_type": "code",
   "execution_count": null,
   "id": "9e9d84bb",
   "metadata": {},
   "outputs": [],
   "source": [
    "# native language\n",
    "language = ['English', 'French', 'Mandarin', 'Tagalog', 'Hindi', 'Punjabi', 'Swahili']"
   ]
  },
  {
   "cell_type": "code",
   "execution_count": null,
   "id": "0fbcaba2",
   "metadata": {},
   "outputs": [],
   "source": [
    "# gender\n",
    "gender = ['Female', 'Male', 'LGBTQ', 'other']"
   ]
  },
  {
   "cell_type": "code",
   "execution_count": null,
   "id": "72613745",
   "metadata": {},
   "outputs": [],
   "source": [
    "# special accommodations for learning\n",
    "learning_needs = ['None', 'A', 'B', 'C']"
   ]
  },
  {
   "cell_type": "markdown",
   "id": "ce4b7286",
   "metadata": {},
   "source": [
    "-- Now tile the data randomly to match the number of students"
   ]
  },
  {
   "cell_type": "code",
   "execution_count": null,
   "id": "8fb9b9b8",
   "metadata": {},
   "outputs": [],
   "source": [
    "ind = randint(0, len(language), num_students)\n",
    "language = np.array(language)[ind]"
   ]
  },
  {
   "cell_type": "code",
   "execution_count": null,
   "id": "1809ae3f",
   "metadata": {},
   "outputs": [],
   "source": [
    "ind = randint(0, len(ethnicity), num_students)\n",
    "ethnicity = np.array(ethnicity)[ind]"
   ]
  },
  {
   "cell_type": "code",
   "execution_count": null,
   "id": "3f5148b7",
   "metadata": {},
   "outputs": [],
   "source": [
    "ind = randint(0, len(gender), num_students)\n",
    "gender = np.array(gender)[ind]"
   ]
  },
  {
   "cell_type": "code",
   "execution_count": null,
   "id": "db3802e0",
   "metadata": {},
   "outputs": [],
   "source": [
    "ind = randint(0,len(learning_needs), num_students)\n",
    "learning_needs = np.array(learning_needs)[ind]"
   ]
  },
  {
   "cell_type": "code",
   "execution_count": null,
   "id": "20414272",
   "metadata": {},
   "outputs": [],
   "source": [
    "data = np.column_stack([name, gender, ethnicity, language, learning_needs])"
   ]
  },
  {
   "cell_type": "code",
   "execution_count": null,
   "id": "823df7cc",
   "metadata": {},
   "outputs": [],
   "source": [
    "df = pd.DataFrame(data=data, \n",
    "                  columns=['name', 'gender', 'ethnicity', 'native language',  'learning needs'], \n",
    "                  index=np.arange(1,51))\n",
    "df"
   ]
  }
 ],
 "metadata": {
  "kernelspec": {
   "display_name": "Python 3 (ipykernel)",
   "language": "python",
   "name": "python3"
  },
  "language_info": {
   "codemirror_mode": {
    "name": "ipython",
    "version": 3
   },
   "file_extension": ".py",
   "mimetype": "text/x-python",
   "name": "python",
   "nbconvert_exporter": "python",
   "pygments_lexer": "ipython3",
   "version": "3.9.7"
  }
 },
 "nbformat": 4,
 "nbformat_minor": 5
}
