{
 "cells": [
  {
   "cell_type": "code",
   "execution_count": null,
   "id": "e40c796c",
   "metadata": {},
   "outputs": [],
   "source": [
    "import pandas as pd\n",
    "import names\n",
    "import numpy as np\n",
    "from numpy.random import randint"
   ]
  },
  {
   "cell_type": "code",
   "execution_count": null,
   "id": "fca798ad",
   "metadata": {},
   "outputs": [],
   "source": [
    "from os.path import expanduser\n",
    "path_to_fake_csv = expanduser('~') + '/decode/decode-2021-analytics/fake_data/'"
   ]
  },
  {
   "cell_type": "code",
   "execution_count": null,
   "id": "5e6eff64",
   "metadata": {},
   "outputs": [],
   "source": [
    "num_students = 50\n",
    "name = [names.get_full_name() for i in range(num_students)]\n",
    "name = np.array(name)"
   ]
  },
  {
   "cell_type": "code",
   "execution_count": null,
   "id": "cf158534",
   "metadata": {},
   "outputs": [],
   "source": [
    "# https://www12.statcan.gc.ca/census-recensement/2016/dp-pd/dt-td/Rp-eng.cfm?TABID=2&Lang=E&APATH=3&DETAIL=0&DIM=0&FL=A&FREE=0&GC=0&GID=1341679&GK=0&GRP=1&PID=110528&PRID=10&PTYPE=109445&S=0&SHOWALL=0&SUB=0&Temporal=2017&THEME=120&VID=0&VNAMEE=&VNAMEF=&D1=0&D2=0&D3=0&D4=0&D5=0&D6=0\n",
    "ethnicity = ['North American Aboriginal', 'European', 'Caribbean', 'Latin, Central and South American', \n",
    "             'African', 'Asian']"
   ]
  },
  {
   "cell_type": "code",
   "execution_count": null,
   "id": "ea6118c5",
   "metadata": {},
   "outputs": [],
   "source": [
    "# native language\n",
    "language = ['English', 'French', 'Mandarin', 'Tagalog', 'Hindi', 'Punjabi', 'Swahili']"
   ]
  },
  {
   "cell_type": "code",
   "execution_count": null,
   "id": "37ffa5ba",
   "metadata": {},
   "outputs": [],
   "source": [
    "# gender\n",
    "gender = ['Female', 'Male', 'LGBTQ', 'other']"
   ]
  },
  {
   "cell_type": "code",
   "execution_count": null,
   "id": "73291062",
   "metadata": {},
   "outputs": [],
   "source": [
    "# special accommodations for learning\n",
    "learning_needs = ['None', 'A', 'B', 'C']"
   ]
  },
  {
   "cell_type": "markdown",
   "id": "d80a875f",
   "metadata": {},
   "source": [
    "-- Now tile the data randomly to match the number of students"
   ]
  },
  {
   "cell_type": "code",
   "execution_count": null,
   "id": "d6a9f8bb",
   "metadata": {},
   "outputs": [],
   "source": [
    "ind = randint(0, len(language), num_students)\n",
    "language = np.array(language)[ind]"
   ]
  },
  {
   "cell_type": "code",
   "execution_count": null,
   "id": "72aca3f9",
   "metadata": {},
   "outputs": [],
   "source": [
    "ind = randint(0, len(ethnicity), num_students)\n",
    "ethnicity = np.array(ethnicity)[ind]"
   ]
  },
  {
   "cell_type": "code",
   "execution_count": null,
   "id": "4e83cc5e",
   "metadata": {},
   "outputs": [],
   "source": [
    "ind = randint(0, len(gender), num_students)\n",
    "gender = np.array(gender)[ind]"
   ]
  },
  {
   "cell_type": "code",
   "execution_count": null,
   "id": "d522f527",
   "metadata": {},
   "outputs": [],
   "source": [
    "ind = randint(0,len(learning_needs), num_students)\n",
    "learning_needs = np.array(learning_needs)[ind]"
   ]
  },
  {
   "cell_type": "code",
   "execution_count": null,
   "id": "9178c00b",
   "metadata": {},
   "outputs": [],
   "source": [
    "data = np.column_stack([name, gender, ethnicity, language, learning_needs])"
   ]
  },
  {
   "cell_type": "code",
   "execution_count": null,
   "id": "cf960803",
   "metadata": {},
   "outputs": [],
   "source": [
    "df = pd.DataFrame(data=data, \n",
    "                  columns=['name', 'gender', 'ethnicity', 'native language',  'learning needs'], \n",
    "                  index=np.arange(1,51))\n",
    "df"
   ]
  },
  {
   "cell_type": "code",
   "execution_count": null,
   "id": "8a3bc7bd",
   "metadata": {},
   "outputs": [],
   "source": [
    "df.to_csv(path_to_fake_csv + 'fake_student_data.csv')"
   ]
  },
  {
   "cell_type": "code",
   "execution_count": null,
   "id": "63982dae",
   "metadata": {},
   "outputs": [],
   "source": [
    "!head \"{path_to_fake_csv}fake_student_data.csv\""
   ]
  },
  {
   "cell_type": "code",
   "execution_count": null,
   "id": "77461e73",
   "metadata": {},
   "outputs": [],
   "source": []
  }
 ],
 "metadata": {
  "kernelspec": {
   "display_name": "Python 3 (ipykernel)",
   "language": "python",
   "name": "python3"
  },
  "language_info": {
   "codemirror_mode": {
    "name": "ipython",
    "version": 3
   },
   "file_extension": ".py",
   "mimetype": "text/x-python",
   "name": "python",
   "nbconvert_exporter": "python",
   "pygments_lexer": "ipython3",
   "version": "3.9.7"
  }
 },
 "nbformat": 4,
 "nbformat_minor": 5
}
